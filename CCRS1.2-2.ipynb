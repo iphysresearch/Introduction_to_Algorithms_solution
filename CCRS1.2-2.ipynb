{
 "cells": [
  {
   "cell_type": "code",
   "execution_count": 1,
   "metadata": {
    "ExecuteTime": {
     "end_time": "2018-08-24T15:02:39.187076Z",
     "start_time": "2018-08-24T15:02:37.337118Z"
    }
   },
   "outputs": [
    {
     "data": {
      "image/png": "[encoded data removed]",
      "text/plain": [
       "<matplotlib.figure.Figure at 0x10b3b8160>"
      ]
     },
     "metadata": {},
     "output_type": "display_data"
    }
   ],
   "source": [
    "import numpy as np\n",
    "import matplotlib.pyplot as plt\n",
    "%matplotlib inline\n",
    "\n",
    "n = np.linspace(1, 80, 80)\n",
    "plt.figure(figsize=(5,5))\n",
    "plt.scatter(n, 8*n**2, s=3, label='$8n^2$')\n",
    "plt.scatter(n, 64*n*np.log2(n), s=3, label='$64n\\log n$')\n",
    "\n",
    "diffs = 8*n**2 - 64*n*np.log2(n)\n",
    "boundary = [index for index, diff in enumerate(diffs) if (diff>0) & (diffs[index-1]<0)][0]\n",
    "plt.vlines(boundary, -1000, (64*n*np.log2(n))[boundary],linestyles ='--',label='n = 43')\n",
    "plt.ylim(ymin=-1000)\n",
    "plt.legend()\n",
    "plt.show()"
   ]
  },
  {
   "cell_type": "code",
   "execution_count": null,
   "metadata": {},
   "outputs": [],
   "source": []
  }
 ],
 "metadata": {
  "anaconda-cloud": {
   "attach-environment": false,
   "environment": null,
   "summary": "CLRS1.2-2",
   "url": "https://anaconda.org/herb112358/ccrs1-2-2"
  },
  "kernelspec": {
   "display_name": "Python [default]",
   "language": "python",
   "name": "python3"
  },
  "language_info": {
   "codemirror_mode": {
    "name": "ipython",
    "version": 3
   },
   "file_extension": ".py",
   "mimetype": "text/x-python",
   "name": "python",
   "nbconvert_exporter": "python",
   "pygments_lexer": "ipython3",
   "version": "3.6.2"
  },
  "nbTranslate": {
   "displayLangs": [
    "*"
   ],
   "hotkey": "alt-t",
   "langInMainMenu": true,
   "sourceLang": "en",
   "targetLang": "fr",
   "useGoogleTranslate": true
  },
  "toc": {
   "nav_menu": {},
   "number_sections": true,
   "sideBar": true,
   "skip_h1_title": false,
   "toc_cell": false,
   "toc_position": {},
   "toc_section_display": "block",
   "toc_window_display": false
  }
 },
 "nbformat": 4,
 "nbformat_minor": 2
}
